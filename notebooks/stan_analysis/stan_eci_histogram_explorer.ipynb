{
 "cells": [
  {
   "cell_type": "code",
   "execution_count": 1,
   "metadata": {},
   "outputs": [
    {
     "name": "stdout",
     "output_type": "stream",
     "text": [
      "Populating the interactive namespace from numpy and matplotlib\n"
     ]
    }
   ],
   "source": [
    "get_ipython().run_line_magic('pylab', 'inline')"
   ]
  },
  {
   "cell_type": "code",
   "execution_count": 2,
   "metadata": {},
   "outputs": [],
   "source": [
    "import tinc\n",
    "import os\n",
    "import numpy as np\n",
    "import djlib.clex as cl\n",
    "import djlib as dj\n",
    "from scipy.spatial import ConvexHull\n",
    "import pickle\n",
    "import matplotlib.pyplot as plt\n",
    "from IPython.core.display import display, HTML\n",
    "from sklearn.metrics import mean_squared_error\n"
   ]
  },
  {
   "cell_type": "code",
   "execution_count": 3,
   "metadata": {},
   "outputs": [],
   "source": [
    "#User-specific paths\n",
    "datafile = 'results.pkl'\n",
    "histogram_images_path = \"/home/derick/experiments/stan_demo_ZrN/eci_hist_images\""
   ]
  },
  {
   "cell_type": "code",
   "execution_count": 4,
   "metadata": {},
   "outputs": [
    {
     "name": "stdout",
     "output_type": "stream",
     "text": [
      "Validating json with /home/derick/anaconda3/lib/python3.8/site-packages/tinc/tinc_cache_schema.json\n"
     ]
    }
   ],
   "source": [
    "#Set up tinc stuff to let us view the ECI histogram plots later\n",
    "eci_index = tinc.Parameter(\"eci_index\", \"index\")\n",
    "eci_index.values = np.array(list(range(253)))\n",
    "graph_buffer = tinc.DiskBufferImage(\"graph\", \"out.png\", \"eci_hist_images\")\n",
    "ps = tinc.ParameterSpace(\"ps\")\n",
    "ps.register_parameters([eci_index])\n",
    "ps.enable_cache()"
   ]
  },
  {
   "cell_type": "code",
   "execution_count": 5,
   "metadata": {},
   "outputs": [],
   "source": [
    "#Read ECI output from stan\n",
    "with open(datafile, 'rb') as f:\n",
    "    eci_set = pickle.load(f)\n",
    "    eci_set = np.array(eci_set['eci'])\n",
    "    eci_set = np.transpose(eci_set)\n",
    "eci_set.shape\n",
    "eci_means = np.mean(eci_set,axis=0)\n",
    "eci_median = np.median(eci_set,axis=0)"
   ]
  },
  {
   "cell_type": "code",
   "execution_count": 6,
   "metadata": {},
   "outputs": [],
   "source": [
    "#Code to make ECI histograms through tinc. \n",
    "def make_graph(eci_index):\n",
    "    eci_hist_selection = eci_set[:,int(eci_index)]\n",
    "    fig = cl.plot_eci_hist(eci_hist_selection)\n",
    "    fig.set_size_inches(18, 10)\n",
    "    plt.axvline(x=eci_means[int(eci_index)], linewidth=5, color='blue',label='Mean')\n",
    "    plt.axvline(x=eci_median[int(eci_index)],linewidth=5, color='green',label=\"Median\")\n",
    "    plt.legend(fontsize=21)\n",
    "    fig = plt.gcf()\n",
    "    image_path = os.path.join(histogram_images_path, 'eci_index_%d.png'%(eci_index))\n",
    "    fig.savefig(image_path)\n",
    "    file = open(image_path, 'rb')\n",
    "    return file.read()\n",
    "\n",
    "\n",
    "def value_changed(value):\n",
    "    imagedata = ps.run_process(make_graph)\n",
    "    graph_buffer.data = imagedata\n",
    "\n",
    "eci_index.register_callback(value_changed)"
   ]
  },
  {
   "cell_type": "code",
   "execution_count": 7,
   "metadata": {},
   "outputs": [
    {
     "data": {
      "application/vnd.jupyter.widget-view+json": {
       "model_id": "a5d736d4ceed4f1b8a2850b2a61e81b4",
       "version_major": 2,
       "version_minor": 0
      },
      "text/plain": [
       "VBox(children=(interactive(children=(FloatSlider(value=0.0, description='eci_index', max=252.0, readout_format…"
      ]
     },
     "metadata": {},
     "output_type": "display_data"
    }
   ],
   "source": [
    "#Tinc stuff to visualize the ECI histograms.\n",
    "from ipywidgets import Button, HBox, VBox\n",
    "box = VBox([eci_index.interactive_widget(), eci_index.interactive_control(), graph_buffer.interactive_widget()])\n",
    "graph_buffer._interactive_widget.width = \"80%\"\n",
    "box"
   ]
  }
 ],
 "metadata": {
  "interpreter": {
   "hash": "e7f8c89180b1b01809ebef4d09a4b295f9e97d7edb55f9d07ba3341339b679cd"
  },
  "kernelspec": {
   "display_name": "Python 3.9.7 64-bit ('casm_1.2.0': conda)",
   "language": "python",
   "name": "python3"
  },
  "language_info": {
   "codemirror_mode": {
    "name": "ipython",
    "version": 3
   },
   "file_extension": ".py",
   "mimetype": "text/x-python",
   "name": "python",
   "nbconvert_exporter": "python",
   "pygments_lexer": "ipython3",
   "version": "3.8.12"
  },
  "orig_nbformat": 4
 },
 "nbformat": 4,
 "nbformat_minor": 2
}
