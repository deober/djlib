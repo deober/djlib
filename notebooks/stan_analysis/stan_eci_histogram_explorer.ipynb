{
 "cells": [
  {
   "cell_type": "code",
   "execution_count": null,
   "metadata": {},
   "outputs": [],
   "source": [
    "get_ipython().run_line_magic('pylab', 'inline')"
   ]
  },
  {
   "cell_type": "code",
   "execution_count": null,
   "metadata": {},
   "outputs": [],
   "source": [
    "import tinc\n",
    "import os\n",
    "import numpy as np\n",
    "import djlib.clex as cl\n",
    "import djlib as dj\n",
    "from scipy.spatial import ConvexHull\n",
    "import pickle\n",
    "import matplotlib.pyplot as plt\n",
    "from IPython.core.display import display, HTML\n",
    "from sklearn.metrics import mean_squared_error\n"
   ]
  },
  {
   "cell_type": "code",
   "execution_count": null,
   "metadata": {},
   "outputs": [],
   "source": [
    "#User-specific paths\n",
    "datafile = 'results.pkl'\n",
    "histogram_images_path = \"/home/derick/experiments/stan_demo_ZrN/eci_hist_images\""
   ]
  },
  {
   "cell_type": "code",
   "execution_count": null,
   "metadata": {},
   "outputs": [],
   "source": [
    "#Set up tinc stuff to let us view the ECI histogram plots later\n",
    "eci_index = tinc.Parameter(\"eci_index\", \"index\")\n",
    "eci_index.values = np.array(list(range(253)))\n",
    "graph_buffer = tinc.DiskBufferImage(\"graph\", \"out.png\", \"eci_hist_images\")\n",
    "ps = tinc.ParameterSpace(\"ps\")\n",
    "ps.register_parameters([eci_index])\n",
    "ps.enable_cache()"
   ]
  },
  {
   "cell_type": "code",
   "execution_count": null,
   "metadata": {},
   "outputs": [],
   "source": [
    "#Read ECI output from stan\n",
    "with open(datafile, 'rb') as f:\n",
    "    eci_set = pickle.load(f)\n",
    "    eci_set = np.array(eci_set['eci'])\n",
    "    eci_set = np.transpose(eci_set)\n",
    "eci_set.shape\n",
    "eci_means = np.mean(eci_set,axis=0)\n",
    "eci_median = np.median(eci_set,axis=0)"
   ]
  },
  {
   "cell_type": "code",
   "execution_count": null,
   "metadata": {},
   "outputs": [],
   "source": [
    "#Code to make ECI histograms through tinc. \n",
    "def make_graph(eci_index):\n",
    "    eci_hist_selection = eci_set[:,int(eci_index)]\n",
    "    fig = cl.plot_eci_hist(eci_hist_selection)\n",
    "    fig.set_size_inches(18, 10)\n",
    "    plt.axvline(x=eci_means[int(eci_index)], linewidth=5, color='k',label='Mean')\n",
    "    plt.axvline(x=eci_median[int(eci_index)],linewidth=5, color='blue',label=\"Median\")\n",
    "    plt.legend(fontsize=21)\n",
    "    fig = plt.gcf()\n",
    "    image_path = os.path.join(histogram_images_path, 'eci_index_%d.png'%(eci_index))\n",
    "    fig.savefig(image_path)\n",
    "    file = open(image_path, 'rb')\n",
    "    return file.read()\n",
    "\n",
    "\n",
    "def value_changed(value):\n",
    "    imagedata = ps.run_process(make_graph)\n",
    "    graph_buffer.data = imagedata\n",
    "\n",
    "eci_index.register_callback(value_changed)"
   ]
  },
  {
   "cell_type": "code",
   "execution_count": null,
   "metadata": {},
   "outputs": [],
   "source": [
    "#Display overall plot of ECI and their associated variance:\n",
    "with open(os.path.join(datafile),'rb') as f:\n",
    "    eci = np.array(pickle.load(f)['eci'])\n",
    "fig = dj.clex.plot_eci_uncertainty(eci)\n",
    "fig = plt.gcf()\n",
    "fig.set_size_inches(15,10)\n",
    "plt.legend(fontsize=21)\n",
    "plt.show()"
   ]
  },
  {
   "cell_type": "code",
   "execution_count": null,
   "metadata": {},
   "outputs": [],
   "source": [
    "#Tinc stuff to visualize the ECI histograms.\n",
    "from ipywidgets import Button, HBox, VBox\n",
    "box = VBox([eci_index.interactive_widget(), eci_index.interactive_control(), graph_buffer.interactive_widget()])\n",
    "graph_buffer._interactive_widget.width = \"80%\"\n",
    "box"
   ]
  }
 ],
 "metadata": {
  "interpreter": {
   "hash": "e7f8c89180b1b01809ebef4d09a4b295f9e97d7edb55f9d07ba3341339b679cd"
  },
  "kernelspec": {
   "display_name": "Python 3.9.7 64-bit ('casm_1.2.0': conda)",
   "language": "python",
   "name": "python3"
  },
  "language_info": {
   "codemirror_mode": {
    "name": "ipython",
    "version": 3
   },
   "file_extension": ".py",
   "mimetype": "text/x-python",
   "name": "python",
   "nbconvert_exporter": "python",
   "pygments_lexer": "ipython3",
   "version": "3.8.12"
  },
  "orig_nbformat": 4
 },
 "nbformat": 4,
 "nbformat_minor": 2
}
