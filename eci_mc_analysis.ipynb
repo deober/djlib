{
 "cells": [
  {
   "cell_type": "code",
   "execution_count": null,
   "metadata": {},
   "outputs": [],
   "source": [
    "get_ipython().run_line_magic('pylab', 'inline')"
   ]
  },
  {
   "cell_type": "code",
   "execution_count": null,
   "metadata": {},
   "outputs": [],
   "source": [
    "import tinc\n",
    "import os\n",
    "import numpy as np\n",
    "import djlib.clex as cl\n",
    "import djlib as dj\n",
    "from scipy.spatial import ConvexHull\n",
    "import pickle\n",
    "import matplotlib.pyplot as plt"
   ]
  },
  {
   "cell_type": "code",
   "execution_count": null,
   "metadata": {},
   "outputs": [],
   "source": [
    "#Loading large MCMC dataset\n",
    "datafile = 'testing/HfN_FCC/eci_mc_results.pkl'\n",
    "datafile = 'testing/HfN_HCP/eci_mc_results.pkl'\n",
    "with open(datafile , \"rb\") as f:\n",
    "    results = pickle.load(f)\n",
    "print(results.keys())"
   ]
  },
  {
   "cell_type": "code",
   "execution_count": null,
   "metadata": {},
   "outputs": [],
   "source": [
    "#getting average and variance\n",
    "eci_averages = results[\"sampled_eci\"].mean(axis=0)\n",
    "eci_stddev = np.std(results[\"sampled_eci\"], axis=0)\n",
    "x_index = list(range(eci_averages.shape[0]))\n",
    "plt.scatter(x_index, eci_averages,color='xkcd:crimson')\n",
    "plt.xlabel(\"ECI index (arbitrary)\", fontsize=18)\n",
    "plt.ylabel('ECI value (eV)', fontsize=18)\n",
    "plt.title('ECI Mean and Standard Deviation', fontsize=30)\n",
    "plt.legend('ECI Averages', '+- 1 Standard Deviation')\n",
    "fig = plt.gcf()\n",
    "fig.set_size_inches(25, 10)\n",
    "plt.show()"
   ]
  },
  {
   "cell_type": "code",
   "execution_count": null,
   "metadata": {},
   "outputs": [],
   "source": [
    "#getting average and variance\n",
    "eci_averages = results[\"sampled_eci\"].mean(axis=0)\n",
    "eci_stddev = np.std(results[\"sampled_eci\"], axis=0)\n",
    "x_index = list(range(eci_averages.shape[0]))\n",
    "plt.errorbar(x_index, eci_averages, eci_stddev, ls='none', color='k')\n",
    "plt.scatter(x_index, eci_averages,color='xkcd:crimson')\n",
    "#plt.fill_between(x_index, (eci_averages + eci_stddev), (eci_averages-eci_stddev))\n",
    "#plt.scatter(x_index, eci_averages + eci_stddev, marker='x', color='k')\n",
    "#plt.scatter(x_index, eci_averages-eci_stddev, marker='x', color='k')\n",
    "plt.xlabel(\"ECI index (arbitrary)\", fontsize=18)\n",
    "plt.ylabel('ECI value (eV)', fontsize=18)\n",
    "plt.title('ECI Mean and Standard Deviation', fontsize=30)\n",
    "plt.legend('ECI Averages', '+- 1 Standard Deviation')\n",
    "fig = plt.gcf()\n",
    "fig.set_size_inches(25, 10)\n",
    "plt.show()"
   ]
  },
  {
   "cell_type": "code",
   "execution_count": null,
   "metadata": {},
   "outputs": [],
   "source": [
    "#getting average and variance\n",
    "eci_averages = results[\"sampled_eci\"].mean(axis=0)\n",
    "lasso_values = results[\"sampled_eci\"][0]\n",
    "eci_stddev = np.std(results[\"sampled_eci\"], axis=0)\n",
    "x_index = list(range(eci_averages.shape[0]))\n",
    "plt.errorbar(x_index, eci_averages, eci_stddev, ls='none', color='k')\n",
    "plt.scatter(x_index, eci_averages,color='xkcd:crimson')\n",
    "plt.scatter(x_index, lasso_values)\n",
    "plt.xlabel(\"ECI index (arbitrary)\", fontsize=18)\n",
    "plt.ylabel('ECI value (eV)', fontsize=18)\n",
    "plt.title('ECI Mean and Standard Deviation', fontsize=30)\n",
    "plt.legend('ECI Averages', '+- 1 Standard Deviation')\n",
    "fig = plt.gcf()\n",
    "fig.set_size_inches(25, 10)\n",
    "plt.show()"
   ]
  }
 ],
 "metadata": {
  "interpreter": {
   "hash": "916dbcbb3f70747c44a77c7bcd40155683ae19c65e1c03b4aa3499c5328201f1"
  },
  "kernelspec": {
   "display_name": "Python 3.8.10 64-bit",
   "language": "python",
   "name": "python3"
  },
  "language_info": {
   "codemirror_mode": {
    "name": "ipython",
    "version": 3
   },
   "file_extension": ".py",
   "mimetype": "text/x-python",
   "name": "python",
   "nbconvert_exporter": "python",
   "pygments_lexer": "ipython3",
   "version": "3.8.10"
  },
  "orig_nbformat": 4
 },
 "nbformat": 4,
 "nbformat_minor": 2
}
