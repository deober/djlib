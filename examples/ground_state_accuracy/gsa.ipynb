{
 "cells": [
  {
   "cell_type": "code",
   "execution_count": 149,
   "metadata": {},
   "outputs": [],
   "source": [
    "import json\n",
    "import numpy as np\n",
    "from scipy.spatial import ConvexHull\n",
    "from sklearn.linear_model import RidgeCV\n",
    "import matplotlib.pyplot as plt\n",
    "\n",
    "\n"
   ]
  },
  {
   "cell_type": "code",
   "execution_count": 150,
   "metadata": {},
   "outputs": [],
   "source": [
    "#necessary functions\n",
    "def regroup_query_by_config_property(casm_query_json_data: list) -> dict:\n",
    "    \"\"\"Groups CASM query data by property instead of by configuration.\n",
    "\n",
    "    Parameters\n",
    "    ----------\n",
    "    casm_query_json_data: list\n",
    "        List of dictionaries read from casm query json file.\n",
    "\n",
    "    Returns\n",
    "    -------\n",
    "    results: dict\n",
    "        Dictionary of all data grouped by keys (not grouped by configuraton)\n",
    "\n",
    "    Notes\n",
    "    ------\n",
    "    Casm query jsons are lists of dictionaries; each dictionary corresponds to a configuration.\n",
    "    This function assumes that all dictionaries have the same keys.\n",
    "    It sorts all properties by those keys instead of by configuration.\n",
    "    Properties that are a single value or string are passed as a list of those properties.\n",
    "    Properties that are arrays are passed as a list of lists (2D matrices) even if the\n",
    "    property only has one value (a matrix of one column).\n",
    "    \"\"\"\n",
    "    data = casm_query_json_data\n",
    "    keys = data[0].keys()\n",
    "    data_collect = []\n",
    "    for i in range(len(keys)):\n",
    "        data_collect.append([])\n",
    "\n",
    "    for element_dict in data:\n",
    "        for index, key in enumerate(keys):\n",
    "            data_collect[index].append(element_dict[key])\n",
    "\n",
    "    results = dict(zip(keys, data_collect))\n",
    "\n",
    "    if \"comp\" in results.keys():\n",
    "        # Enforce that composition is always rank 2.\n",
    "        results[\"comp\"] = np.array(results[\"comp\"])\n",
    "        if len(results[\"comp\"].shape) > 2:\n",
    "            results[\"comp\"] = np.squeeze(results[\"comp\"])\n",
    "        if len(results[\"comp\"].shape) == 1:\n",
    "            results[\"comp\"] = np.reshape(results[\"comp\"], (-1, 1))\n",
    "        results[\"comp\"] = results[\"comp\"].tolist()\n",
    "\n",
    "    if \"corr\" in results.keys():\n",
    "        # Remove redundant dimensions in correlation matrix.\n",
    "        results[\"corr\"] = np.squeeze(results[\"corr\"]).tolist()\n",
    "    return results\n",
    "\n",
    "def calculate_slopes(x_coords: np.ndarray, y_coords: np.ndarray):\n",
    "    \"\"\"Calculates the slope for each line segment in a series of connected points.\n",
    "    \n",
    "    Parameters:\n",
    "    -----------\n",
    "    x_coords: np.ndarray\n",
    "        Array of x coordinates.\n",
    "    y_coords: np.ndarray\n",
    "        Array of y coordinates.\n",
    "    \n",
    "    Returns:\n",
    "    --------\n",
    "    slopes: np.ndarray\n",
    "        Array of slopes.\n",
    "    \"\"\"\n",
    "    \n",
    "    #sort x_coords and y_coords by x_coords\n",
    "    x_coords, y_coords = zip(*sorted(zip(x_coords, y_coords)))\n",
    " \n",
    "    slopes = np.zeros(len(x_coords) - 1)\n",
    "    for i in range(len(x_coords) - 1):\n",
    "        slopes[i] = (y_coords[i + 1] - y_coords[i]) / (x_coords[i + 1] - x_coords[i])\n",
    "    return slopes\n",
    "\n",
    "def full_hull(\n",
    "    compositions: np.ndarray, energies: np.ndarray, qhull_options=None\n",
    ") -> ConvexHull:\n",
    "    \"\"\"Returns the full convex hull of the points specified by appending `energies` to `compositions`.\n",
    "\n",
    "    Parameters\n",
    "    ----------\n",
    "    compositions: np.ndarray of floats, shape (n_points, n_composition_axes)\n",
    "        Compositions of points.\n",
    "    energies: np.ndarray of floats, shape (n_points,)\n",
    "        Energies of points.\n",
    "    qhull_options: str\n",
    "        Additional optionals that can be passed to Qhull. See details on the scipy.spatial.ConvexHull documentation. Default=None\n",
    "    Returns\n",
    "    -------\n",
    "    ConvexHull\n",
    "        Convex hull of points.\n",
    "    \"\"\"\n",
    "    return ConvexHull(\n",
    "        np.hstack((compositions, energies[:, np.newaxis])), qhull_options=qhull_options\n",
    "    )\n",
    "\n",
    "def lower_hull(\n",
    "    convex_hull: ConvexHull, tolerance: float = 1e-14\n",
    "):\n",
    "    \"\"\"Returns the vertices and simplices of the lower convex hull (with respect to the last coordinate) of `convex_hull`.\n",
    "\n",
    "    Parameters\n",
    "    ----------\n",
    "    convex_hull : ConvexHull\n",
    "        Complete convex hull object.\n",
    "    tolerance : float, optional\n",
    "        Tolerance for identifying lower hull simplices (default is 1e-14).\n",
    "\n",
    "    Returns\n",
    "    -------\n",
    "    lower_hull_vertex_indices : np.ndarray of ints, shape (n_vertices,)\n",
    "        Indices of points forming the vertices of the lower convex hull.\n",
    "    lower_hull_simplex_indices : np.ndarray of ints, shape (n_simplices,)\n",
    "        Indices of simplices (within `convex_hull.simplices`) forming the facets of the lower convex hull.\n",
    "    \"\"\"\n",
    "    # Find lower hull simplices\n",
    "    lower_hull_simplex_indices = (-convex_hull.equations[:, -2] > tolerance).nonzero()[\n",
    "        0\n",
    "    ]\n",
    "    if lower_hull_simplex_indices.size == 0:\n",
    "        raise RuntimeError(\"No lower hull simplices found.\")\n",
    "\n",
    "    # Gather lower hull vertices from simplices\n",
    "    lower_hull_vertex_indices = np.unique(\n",
    "        np.ravel(convex_hull.simplices[lower_hull_simplex_indices])\n",
    "    )\n",
    "    return lower_hull_vertex_indices, lower_hull_simplex_indices\n",
    "\n",
    "def ground_state_accuracy_metric(\n",
    "    composition_predicted, energy_predicted, true_ground_state_indices\n",
    ") -> float:\n",
    "    \"\"\"Computes a scalar ground state accuracy metric. The metric varies between [0,1], where 1 is perfect accuracy. The metric is a fraction. \n",
    "        The denominator is the sum across the stable chemical potential windows (slopes) for each configuration predicted on the convex hull.\n",
    "        The numerator is the sum across the stable chemical potential windows (slopes) for each configuration predicted on the convex hull, which are ALSO ground states in DFT data.\n",
    "\n",
    "    Parameters\n",
    "    ----------\n",
    "    composition_predicted : np.ndarray\n",
    "        nxm matrix of compositions, where n is the number of configurations and m is the number of composition axes.\n",
    "    energy_predicted : np.ndarray\n",
    "        nx1 matrix of predicted formation energies.\n",
    "    true_ground_state_indices : np.ndarray\n",
    "        nx1 matrix of true ground state indices.\n",
    "\n",
    "    Returns\n",
    "    -------\n",
    "    float\n",
    "        Ground state accuracy metric.\n",
    "    \"\"\"\n",
    "    hull = full_hull(\n",
    "        compositions=composition_predicted, energies=energy_predicted\n",
    "    )\n",
    "    vertices, _ = lower_hull(hull)\n",
    "    \n",
    "    slopes = calculate_slopes(\n",
    "        composition_predicted[vertices], energy_predicted[vertices]\n",
    "    )\n",
    "    stable_chem_pot_windows = [\n",
    "        slopes[i + 1] - slopes[i] for i in range(len(slopes) - 1)\n",
    "    ]\n",
    "\n",
    "    # End states will always be on the convex hull and have an infinite stable chemical potential window. Exclude these from the\n",
    "    vertices = np.sort(vertices)[2:]\n",
    "\n",
    "    vertex_indices_ordered_by_comp = np.argsort(np.ravel(composition_predicted[vertices]))\n",
    "\n",
    "    numerator = 0\n",
    "    for vertex_index in vertex_indices_ordered_by_comp:\n",
    "        if vertices[vertex_index] in true_ground_state_indices:\n",
    "            numerator += stable_chem_pot_windows[vertex_index]\n",
    "\n",
    "    return numerator / np.sum(stable_chem_pot_windows)\n",
    "\n",
    "\n"
   ]
  },
  {
   "cell_type": "code",
   "execution_count": 151,
   "metadata": {},
   "outputs": [],
   "source": [
    "#Load data\n",
    "with open('ZrN_FCC_1.2.0_8_body_10-5-2022.json') as f:\n",
    "    query = json.load(f)\n",
    "    data = regroup_query_by_config_property(query)\n",
    "corr = np.array(data['corr'])\n",
    "comp = np.array(data['comp'])\n",
    "formation_energy = np.array(data['formation_energy'])\n",
    "name = np.array(data['name'])"
   ]
  },
  {
   "cell_type": "code",
   "execution_count": 152,
   "metadata": {},
   "outputs": [
    {
     "name": "stdout",
     "output_type": "stream",
     "text": [
      "[  0   1  27  28 696 809 815 829]\n"
     ]
    }
   ],
   "source": [
    "#Find the \"true\" ground states as predicted by the DFT data\n",
    "dft_hull = full_hull(comp, formation_energy)\n",
    "dft_vertices, dft_simplices = lower_hull(dft_hull)\n",
    "print(dft_vertices)"
   ]
  },
  {
   "cell_type": "code",
   "execution_count": 153,
   "metadata": {},
   "outputs": [
    {
     "name": "stdout",
     "output_type": "stream",
     "text": [
      "0.001047615752789665\n",
      "0.000991089108910891\n"
     ]
    }
   ],
   "source": [
    "#Run a ridgeCV fit, get optimal regularizer\n",
    "coarse_fit_object = RidgeCV(alphas = np.logspace(-5, 0, 100), fit_intercept=False)\n",
    "coarse_fit = coarse_fit_object.fit(corr, formation_energy)\n",
    "print(coarse_fit.alpha_)\n",
    "fine_fit_object = RidgeCV(alphas = np.linspace(0.0001, 0.01, 10000), fit_intercept=False)\n",
    "fine_fit = fine_fit_object.fit(corr, formation_energy)\n",
    "print(fine_fit.alpha_)\n",
    "predicted_energies = fine_fit.predict(corr)"
   ]
  },
  {
   "cell_type": "code",
   "execution_count": 166,
   "metadata": {},
   "outputs": [
    {
     "name": "stdout",
     "output_type": "stream",
     "text": [
      "0.6961673783430177\n"
     ]
    }
   ],
   "source": [
    "#Find the convex hull of the predicted energies\n",
    "hull = full_hull(\n",
    "    compositions=comp, energies=predicted_energies\n",
    ")\n",
    "\n",
    "#Find the vertex indices of the lower convex hull\n",
    "vertices, _ = lower_hull(hull)\n",
    "\n",
    "#Find the slopes of the lower hull simplices\n",
    "slopes = calculate_slopes(\n",
    "    comp[vertices], predicted_energies[vertices]\n",
    ")\n",
    "\n",
    "#Find the stable chemical potential windows for each point on the lower hull, excluding the end states\n",
    "stable_chem_pot_windows = [\n",
    "    slopes[i + 1] - slopes[i] for i in range(len(slopes) - 1)\n",
    "]\n",
    "\n",
    "#Compute the ground state accuracy metric\n",
    "gsa = ground_state_accuracy_metric(composition_predicted=comp, energy_predicted=predicted_energies, true_ground_state_indices=dft_vertices)\n",
    "print(gsa)\n",
    "\n"
   ]
  },
  {
   "cell_type": "code",
   "execution_count": 168,
   "metadata": {},
   "outputs": [
    {
     "name": "stdout",
     "output_type": "stream",
     "text": [
      "[  0   1  27  28 696 809 815 829]\n",
      "[ 28 696 815 829]\n",
      "[ 89 197 802]\n"
     ]
    }
   ],
   "source": [
    "print(dft_vertices)\n",
    "print(np.setdiff1d(dft_vertices, vertices))"
   ]
  },
  {
   "cell_type": "code",
   "execution_count": null,
   "metadata": {},
   "outputs": [],
   "source": [
    "#See above: The fit only predicted 4 of the 8 DFT ground states. This would usually lead to an accuracy metric of 1/2. However, including the stable chemical potential window weights some structures more than others. \n"
   ]
  }
 ],
 "metadata": {
  "kernelspec": {
   "display_name": "Python 3.9.12 ('thermo')",
   "language": "python",
   "name": "python3"
  },
  "language_info": {
   "codemirror_mode": {
    "name": "ipython",
    "version": 3
   },
   "file_extension": ".py",
   "mimetype": "text/x-python",
   "name": "python",
   "nbconvert_exporter": "python",
   "pygments_lexer": "ipython3",
   "version": "3.9.12"
  },
  "orig_nbformat": 4,
  "vscode": {
   "interpreter": {
    "hash": "36ecc6b6eb056291f47bae731289e1dabfde8d50092a786ca7d2e4468827f3a0"
   }
  }
 },
 "nbformat": 4,
 "nbformat_minor": 2
}
